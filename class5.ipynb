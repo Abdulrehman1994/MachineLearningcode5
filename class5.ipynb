{
  "nbformat": 4,
  "nbformat_minor": 0,
  "metadata": {
    "colab": {
      "name": "class5.ipynb",
      "provenance": []
    },
    "kernelspec": {
      "name": "python3",
      "display_name": "Python 3"
    }
  },
  "cells": [
    {
      "cell_type": "code",
      "metadata": {
        "id": "FrZq1PcVH2yc",
        "outputId": "84331dfa-0287-4382-de76-9a4c0c319833",
        "colab": {
          "base_uri": "https://localhost:8080/"
        }
      },
      "source": [
        "from google.colab import drive\n",
        "drive.mount('/content/drive')"
      ],
      "execution_count": null,
      "outputs": [
        {
          "output_type": "stream",
          "text": [
            "Drive already mounted at /content/drive; to attempt to forcibly remount, call drive.mount(\"/content/drive\", force_remount=True).\n"
          ],
          "name": "stdout"
        }
      ]
    },
    {
      "cell_type": "code",
      "metadata": {
        "id": "8ivButwpI-tY"
      },
      "source": [
        "import numpy as np\n",
        "import pandas as pd \n",
        "data=pd.read_csv(\"/content/drive/My Drive/train.csv\")\n",
        "x=data.iloc[:,0:20]\n",
        "y=data.iloc[:,-1]\n"
      ],
      "execution_count": null,
      "outputs": []
    },
    {
      "cell_type": "code",
      "metadata": {
        "id": "WHgEBFbsL_Km",
        "outputId": "d23e715a-7843-41df-eb10-3ba0b1329228",
        "colab": {
          "base_uri": "https://localhost:8080/"
        }
      },
      "source": [
        "from sklearn.feature_selection import SelectKBest\n",
        "from sklearn.feature_selection import chi2\n",
        "#bestfeatures=SelectKBest(score_func=chi2,k=2)\n",
        "#fit=bestfeatures.fit(x,y)\n",
        "#print(fit.scores_)\n",
        "#dfscores=pd.DataFrame(fit.scores_)\n",
        "#dfcolumns=pd.DataFrame(x.columns)\n",
        "#featurescores=pd.concat([dfcolumns,dfscores],axis=1)\n",
        "#featurescores.columns=['features','score']\n",
        "#print(featurescores.nlargest(10,'score'))\n",
        "bestfeatures=SelectKBest(score_func=chi2,k=2)\n",
        "fit=bestfeatures.fit(x,y)\n",
        "features=fit.transform(x)\n",
        "print(features[0:5,:])\n",
        "#print(features)"
      ],
      "execution_count": null,
      "outputs": [
        {
          "output_type": "stream",
          "text": [
            "[[  20. 2549.]\n",
            " [ 905. 2631.]\n",
            " [1263. 2603.]\n",
            " [1216. 2769.]\n",
            " [1208. 1411.]]\n"
          ],
          "name": "stdout"
        }
      ]
    },
    {
      "cell_type": "code",
      "metadata": {
        "id": "MN3NQv8kLcJ1"
      },
      "source": [
        "from sklearn.model_selection import train_test_split\n",
        "X_train,X_test,y_train,y_test=train_test_split(features,y,test_size=0.3,random_state=100)\n"
      ],
      "execution_count": null,
      "outputs": []
    },
    {
      "cell_type": "code",
      "metadata": {
        "id": "dIq_9GmtYZCa"
      },
      "source": [
        "from sklearn.preprocessing import StandardScaler\n",
        "scaler=StandardScaler()\n",
        "scaler.fit(X_train)\n",
        "x_train=scaler.transform(X_train)\n",
        "x_test=scaler.transform(X_test)"
      ],
      "execution_count": null,
      "outputs": []
    },
    {
      "cell_type": "code",
      "metadata": {
        "id": "b45xc5tLZbx5",
        "outputId": "2fdf6ca3-4203-4295-fc1d-daf037981dff",
        "colab": {
          "base_uri": "https://localhost:8080/"
        }
      },
      "source": [
        "print(x_train.shape)"
      ],
      "execution_count": null,
      "outputs": [
        {
          "output_type": "stream",
          "text": [
            "(1400, 2)\n"
          ],
          "name": "stdout"
        }
      ]
    },
    {
      "cell_type": "code",
      "metadata": {
        "id": "NMW7RVLeKu3Q",
        "outputId": "3915bc69-196a-4d7e-db1c-2739f7e4fde3",
        "colab": {
          "base_uri": "https://localhost:8080/"
        }
      },
      "source": [
        "from sklearn import svm , metrics\n",
        "#classifier = svm.SVC()\n",
        "classifier=svm.SVC(C=1.0,kernel='linear',gamma=0.01,verbose=True)\n",
        "classifier.fit(X_train,y_train)\n",
        "y_pred=classifier.predict(X_test)\n",
        "from sklearn.metrics import accuracy_score\n",
        "print(accuracy_score(y_test,y_pred)*100)"
      ],
      "execution_count": null,
      "outputs": [
        {
          "output_type": "stream",
          "text": [
            "[LibSVM]77.0\n"
          ],
          "name": "stdout"
        }
      ]
    },
    {
      "cell_type": "code",
      "metadata": {
        "id": "_sMf1L8hUOjs"
      },
      "source": [
        "\n"
      ],
      "execution_count": null,
      "outputs": []
    }
  ]
}